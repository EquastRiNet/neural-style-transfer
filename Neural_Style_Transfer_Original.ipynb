{
 "cells": [
  {
   "cell_type": "code",
   "execution_count": null,
   "metadata": {
    "executionInfo": {
     "elapsed": 4661,
     "status": "ok",
     "timestamp": 1721160254674,
     "user": {
      "displayName": "AWS EDENX",
      "userId": "16422240437080948949"
     },
     "user_tz": -330
    },
    "id": "ZA7rVEcngYaY"
   },
   "outputs": [],
   "source": [
    "import os\n",
    "import matplotlib.pyplot as plt\n",
    "import matplotlib as mpl\n",
    "mpl.rcParams['figure.figsize'] = (10,10)\n",
    "mpl.rcParams['axes.grid'] = False\n",
    "import numpy as np\n",
    "from PIL import Image\n",
    "import time\n",
    "import functools\n",
    "import cv2\n",
    "import tensorflow as tf\n",
    "from tensorflow.keras.utils import image_dataset_from_directory as kp_image\n",
    "from tensorflow.python.keras import models\n",
    "from tensorflow.python.keras import losses\n",
    "from tensorflow.python.keras import layers\n",
    "from tensorflow.python.keras import backend as K\n",
    "import keras.preprocessing.image as kp_image"
   ]
  },
  {
   "cell_type": "markdown",
   "metadata": {
    "id": "eZTxtXQbkF0e"
   },
   "source": [
    "CONVERT PNG TO JPG"
   ]
  },
  {
   "cell_type": "code",
   "execution_count": null,
   "metadata": {
    "executionInfo": {
     "elapsed": 762,
     "status": "ok",
     "timestamp": 1721160651384,
     "user": {
      "displayName": "AWS EDENX",
      "userId": "16422240437080948949"
     },
     "user_tz": -330
    },
    "id": "gBhDlJv0juw9"
   },
   "outputs": [],
   "source": [
    "def convert_png_to_jpg(png_file_path, jpg_file_path, background_color=(255, 255, 255)):\n",
    "    with Image.open(png_file_path) as img:\n",
    "      \n",
    "        if img.mode in ('RGBA', 'LA') or (img.mode == 'P' and 'transparency' in img.info):\n",
    "            background = Image.new('RGB', img.size, background_color)\n",
    "            background.paste(img, mask=img.split()[3])\n",
    "            img = background\n",
    "\n",
    "        \n",
    "        img.save(jpg_file_path, quality=95)\n",
    "png_file_path='/content/drive/MyDrive/nst4image/content_image/2021-08-14.png'\n",
    "jpg_file_path='/content/drive/MyDrive/nst4image/content_image/2021-08-14.jpg'\n",
    "convert_png_to_jpg(png_file_path, jpg_file_path)"
   ]
  },
  {
   "cell_type": "markdown",
   "metadata": {
    "id": "ErrEtrJghWA-"
   },
   "source": [
    "### **IMAGE PATHS**"
   ]
  },
  {
   "cell_type": "code",
   "execution_count": null,
   "metadata": {
    "executionInfo": {
     "elapsed": 720,
     "status": "ok",
     "timestamp": 1721160708033,
     "user": {
      "displayName": "AWS EDENX",
      "userId": "16422240437080948949"
     },
     "user_tz": -330
    },
    "id": "A5ZJ8AhngksP"
   },
   "outputs": [],
   "source": [
    "#FOR IMAGE STYLING\n",
    "content_path = '/content/drive/MyDrive/nst4image/content_image/2021-08-14.jpg'\n",
    "style_path='/content/drive/MyDrive/nst4image/style_image/mona.jpg'"
   ]
  },
  {
   "cell_type": "markdown",
   "metadata": {
    "id": "c_TKN0ONhfDn"
   },
   "source": [
    "### **MAIN CODE**"
   ]
  },
  {
   "cell_type": "code",
   "execution_count": null,
   "metadata": {
    "executionInfo": {
     "elapsed": 589,
     "status": "ok",
     "timestamp": 1721160715807,
     "user": {
      "displayName": "AWS EDENX",
      "userId": "16422240437080948949"
     },
     "user_tz": -330
    },
    "id": "nXrPGC1Sgmzg"
   },
   "outputs": [],
   "source": [
    "def load_img(path_to_img):\n",
    "    max_dim = 512\n",
    "    img = Image.open(path_to_img)\n",
    "    long = max(img.size)\n",
    "    scale = max_dim / long\n",
    "    img = img.resize((round(img.size[0] * scale), round(img.size[1] * scale)), Image.NEAREST)\n",
    "\n",
    "   \n",
    "    img = np.expand_dims(img, axis=0) # type: ignore\n",
    "    return img"
   ]
  },
  {
   "cell_type": "code",
   "execution_count": null,
   "metadata": {
    "executionInfo": {
     "elapsed": 1,
     "status": "ok",
     "timestamp": 1721160718208,
     "user": {
      "displayName": "AWS EDENX",
      "userId": "16422240437080948949"
     },
     "user_tz": -330
    },
    "id": "yV_9iZvVgpcv"
   },
   "outputs": [],
   "source": [
    "def load_and_process_img(path_to_img):\n",
    "  img = load_img(path_to_img)\n",
    "  img = tf.keras.applications.vgg19.preprocess_input(img)\n",
    "  return img"
   ]
  },
  {
   "cell_type": "code",
   "execution_count": null,
   "metadata": {
    "executionInfo": {
     "elapsed": 1,
     "status": "ok",
     "timestamp": 1721160720537,
     "user": {
      "displayName": "AWS EDENX",
      "userId": "16422240437080948949"
     },
     "user_tz": -330
    },
    "id": "dMpORxB-gsc_"
   },
   "outputs": [],
   "source": [
    "def deprocess_img(processed_img):\n",
    "  x = processed_img.copy()\n",
    "  if len(x.shape) == 4:\n",
    "    x = np.squeeze(x, 0)\n",
    "  assert len(x.shape) == 3, (\"Input to deprocess image must be an image of \"\n",
    "                             \"dimension [1, height, width, channel] or [height, width, channel]\")\n",
    "  if len(x.shape) != 3:\n",
    "    raise ValueError(\"Invalid input to deprocessing image\")\n",
    "\n",
    " \n",
    "  x[:, :, 0] += 103.939\n",
    "  x[:, :, 1] += 116.779\n",
    "  x[:, :, 2] += 123.68\n",
    "  x = x[:, :, ::-1]\n",
    "\n",
    "  x = np.clip(x, 0, 255).astype('uint8')\n",
    "  return x"
   ]
  },
  {
   "cell_type": "code",
   "execution_count": null,
   "metadata": {
    "executionInfo": {
     "elapsed": 1,
     "status": "ok",
     "timestamp": 1721160722690,
     "user": {
      "displayName": "AWS EDENX",
      "userId": "16422240437080948949"
     },
     "user_tz": -330
    },
    "id": "eEfDxtYegtG_"
   },
   "outputs": [],
   "source": [
    "#VGG19 LAYERS\n",
    "content_layers = ['block4_conv2']\n",
    "\n",
    "\n",
    "style_layers = ['block1_conv1',\n",
    "                'block2_conv1',\n",
    "                'block3_conv1',\n",
    "                'block4_conv1',\n",
    "                'block5_conv1'\n",
    "               ]\n",
    "\n",
    "num_content_layers = len(content_layers)\n",
    "num_style_layers = len(style_layers)"
   ]
  },
  {
   "cell_type": "code",
   "execution_count": null,
   "metadata": {
    "executionInfo": {
     "elapsed": 1,
     "status": "ok",
     "timestamp": 1721160725311,
     "user": {
      "displayName": "AWS EDENX",
      "userId": "16422240437080948949"
     },
     "user_tz": -330
    },
    "id": "TqfdLmG9gvYn"
   },
   "outputs": [],
   "source": [
    "def get_model():\n",
    "  vgg = tf.keras.applications.vgg19.VGG19(include_top=False, weights='imagenet')\n",
    "  vgg.trainable = False\n",
    " \n",
    "  style_outputs = [vgg.get_layer(name).output for name in style_layers]\n",
    "  content_outputs = [vgg.get_layer(name).output for name in content_layers]\n",
    "  model_outputs = style_outputs + content_outputs\n",
    "  # Build model\n",
    "  return models.Model(vgg.input, model_outputs)"
   ]
  },
  {
   "cell_type": "code",
   "execution_count": null,
   "metadata": {
    "executionInfo": {
     "elapsed": 1,
     "status": "ok",
     "timestamp": 1721160727632,
     "user": {
      "displayName": "AWS EDENX",
      "userId": "16422240437080948949"
     },
     "user_tz": -330
    },
    "id": "VtU6KR2AgxR_"
   },
   "outputs": [],
   "source": [
    "def get_content_loss(base_content, target):\n",
    "  return tf.reduce_mean(tf.square(base_content - target))"
   ]
  },
  {
   "cell_type": "code",
   "execution_count": null,
   "metadata": {
    "executionInfo": {
     "elapsed": 1,
     "status": "ok",
     "timestamp": 1721160729786,
     "user": {
      "displayName": "AWS EDENX",
      "userId": "16422240437080948949"
     },
     "user_tz": -330
    },
    "id": "zsJ7cEVYg0Fv"
   },
   "outputs": [],
   "source": [
    "def gram_matrix(input_tensor):\n",
    "  \n",
    "  channels = int(input_tensor.shape[-1])\n",
    "  a = tf.reshape(input_tensor, [-1, channels])\n",
    "  n = tf.shape(a)[0]\n",
    "  gram = tf.matmul(a, a, transpose_a=True)\n",
    "  return gram / tf.cast(n, tf.float32)\n",
    "\n",
    "def get_style_loss(base_style, gram_target):\n",
    "  \"\"\"Expects two images of dimension h, w, c\"\"\"\n",
    "\n",
    "  height, width, channels = base_style.get_shape().as_list()\n",
    "  gram_style = gram_matrix(base_style)\n",
    "\n",
    "  return tf.reduce_mean(tf.square(gram_style - gram_target))"
   ]
  },
  {
   "cell_type": "code",
   "execution_count": null,
   "metadata": {
    "executionInfo": {
     "elapsed": 1,
     "status": "ok",
     "timestamp": 1721160731775,
     "user": {
      "displayName": "AWS EDENX",
      "userId": "16422240437080948949"
     },
     "user_tz": -330
    },
    "id": "fJZLrE6og2Sm"
   },
   "outputs": [],
   "source": [
    "def get_feature_representations(model, content_path, style_path):\n",
    " \n",
    "  content_image = load_and_process_img(content_path)\n",
    "  style_image = load_and_process_img(style_path)\n",
    "\n",
    " \n",
    "  style_outputs = model(style_image)\n",
    "  content_outputs = model(content_image)\n",
    "\n",
    "\n",
    "  \n",
    "  style_features = [style_layer[0] for style_layer in style_outputs[:num_style_layers]]\n",
    "  content_features = [content_layer[0] for content_layer in content_outputs[num_style_layers:]]\n",
    "  return style_features, content_features"
   ]
  },
  {
   "cell_type": "code",
   "execution_count": null,
   "metadata": {
    "executionInfo": {
     "elapsed": 1,
     "status": "ok",
     "timestamp": 1721160734147,
     "user": {
      "displayName": "AWS EDENX",
      "userId": "16422240437080948949"
     },
     "user_tz": -330
    },
    "id": "XqIXpU2dg4wX"
   },
   "outputs": [],
   "source": [
    "def compute_loss(model, loss_weights, init_image, gram_style_features, content_features):\n",
    "\n",
    "  model_outputs = model(init_image)\n",
    "\n",
    "  style_output_features = model_outputs[:num_style_layers]\n",
    "  content_output_features = model_outputs[num_style_layers:]\n",
    "\n",
    "  style_score = 0\n",
    "  content_score = 0\n",
    "  style_weight=0.001\n",
    "  content_weight=1\n",
    "  \n",
    "  weight_per_style_layer = 1.0 / float(num_style_layers)\n",
    "  for target_style, comb_style in zip(gram_style_features, style_output_features):\n",
    "    style_score += weight_per_style_layer * get_style_loss(comb_style[0], target_style)\n",
    "\n",
    " \n",
    "  weight_per_content_layer = 1.0 / float(num_content_layers)\n",
    "  for target_content, comb_content in zip(content_features, content_output_features):\n",
    "    content_score += weight_per_content_layer* get_content_loss(comb_content[0], target_content)\n",
    "\n",
    "  style_score *= style_weight\n",
    "  content_score *= content_weight\n",
    "\n",
    " \n",
    "  loss = style_score + content_score\n",
    "  return loss, style_score, content_score"
   ]
  },
  {
   "cell_type": "code",
   "execution_count": null,
   "metadata": {
    "executionInfo": {
     "elapsed": 1,
     "status": "ok",
     "timestamp": 1721160736191,
     "user": {
      "displayName": "AWS EDENX",
      "userId": "16422240437080948949"
     },
     "user_tz": -330
    },
    "id": "0GB7lOWPg65u"
   },
   "outputs": [],
   "source": [
    "def compute_grads(cfg):\n",
    "  with tf.GradientTape() as tape:\n",
    "    all_loss = compute_loss(**cfg)\n",
    " \n",
    "  total_loss = all_loss[0]\n",
    "  return tape.gradient(total_loss, cfg['init_image']), all_loss"
   ]
  },
  {
   "cell_type": "code",
   "execution_count": null,
   "metadata": {
    "executionInfo": {
     "elapsed": 1,
     "status": "ok",
     "timestamp": 1721160738176,
     "user": {
      "displayName": "AWS EDENX",
      "userId": "16422240437080948949"
     },
     "user_tz": -330
    },
    "id": "JETV9CGrhBxo"
   },
   "outputs": [],
   "source": [
    "import IPython.display\n",
    "\n",
    "def run_style_transfer(content_path,\n",
    "                       style_path,\n",
    "                       num_iterations=512,\n",
    "                       content_weight=2,\n",
    "                       style_weight=0.00001):\n",
    " \n",
    "  model = get_model()\n",
    "  for layer in model.layers:\n",
    "    layer.trainable = False\n",
    "\n",
    " \n",
    "  style_features, content_features = get_feature_representations(model, content_path, style_path)\n",
    "  gram_style_features = [gram_matrix(style_feature) for style_feature in style_features]\n",
    "\n",
    " \n",
    "  init_image = load_and_process_img(content_path)\n",
    "  init_image = tf.Variable(init_image, dtype=tf.float32)\n",
    "  \n",
    "  opt = tf.optimizers.Adam(learning_rate=5, epsilon=1e-1) #original lr=5,epi=1e-1\n",
    "\n",
    " \n",
    "  iter_count = 1\n",
    "\n",
    "  \n",
    "  best_loss, best_img = float('inf'), None\n",
    "\n",
    " \n",
    "  loss_weights = (style_weight, content_weight)\n",
    "  cfg = {\n",
    "      'model': model,\n",
    "      'loss_weights': loss_weights,\n",
    "      'init_image': init_image,\n",
    "      'gram_style_features': gram_style_features,\n",
    "      'content_features': content_features\n",
    "  }\n",
    " \n",
    "  num_rows = 2\n",
    "  num_cols = 5\n",
    "  display_interval = num_iterations/(num_rows*num_cols)\n",
    "  start_time = time.time()\n",
    "  global_start = time.time()\n",
    "\n",
    "  norm_means = np.array([103.939, 116.779, 123.68])\n",
    "  min_vals = -norm_means\n",
    "  max_vals = 255 - norm_means\n",
    "\n",
    "  imgs = []\n",
    "  for i in range(num_iterations):\n",
    "    grads, all_loss = compute_grads(cfg)\n",
    "    loss, style_score, content_score = all_loss\n",
    "    opt.apply_gradients([(grads, init_image)])\n",
    "    clipped = tf.clip_by_value(init_image, min_vals, max_vals)\n",
    "    init_image.assign(clipped)\n",
    "    end_time = time.time()\n",
    "\n",
    "    if loss < best_loss:\n",
    "      \n",
    "      best_loss = loss\n",
    "      best_img = deprocess_img(init_image.numpy())\n",
    "\n",
    "    if i % display_interval== 0:\n",
    "      start_time = time.time()\n",
    "\n",
    "      \n",
    "      plot_img = init_image.numpy()\n",
    "      plot_img = deprocess_img(plot_img)\n",
    "      imgs.append(plot_img)\n",
    "      IPython.display.clear_output(wait=True)\n",
    "      IPython.display.display_png(Image.fromarray(plot_img))\n",
    "      print('Iteration: {}'.format(i))\n",
    "      print('Total loss: {:.4e}, '\n",
    "            'style loss: {:.4e}, '\n",
    "            'content loss: {:.4e}, '\n",
    "            'time: {:.4f}s'.format(loss, style_score, content_score, time.time() - start_time))\n",
    "  print('Total time: {:.4f}s'.format(time.time() - global_start))\n",
    "  IPython.display.clear_output(wait=True)\n",
    "  plt.figure(figsize=(14,4))\n",
    "  for i,img in enumerate(imgs):\n",
    "      plt.subplot(num_rows,num_cols,i+1)\n",
    "      plt.imshow(img)\n",
    "      plt.xticks([])\n",
    "      plt.yticks([])\n",
    "\n",
    "  return best_img, best_loss"
   ]
  },
  {
   "cell_type": "code",
   "execution_count": null,
   "metadata": {
    "colab": {
     "base_uri": "https://localhost:8080/",
     "height": 310
    },
    "executionInfo": {
     "elapsed": 59380,
     "status": "ok",
     "timestamp": 1721160883789,
     "user": {
      "displayName": "AWS EDENX",
      "userId": "16422240437080948949"
     },
     "user_tz": -330
    },
    "id": "042Nd_8AhCh_",
    "outputId": "bc473291-b181-43ec-b6d5-41f1e6173944"
   },
   "outputs": [],
   "source": [
    "best, best_loss = run_style_transfer(content_path, style_path, num_iterations=500)"
   ]
  },
  {
   "cell_type": "code",
   "execution_count": null,
   "metadata": {
    "executionInfo": {
     "elapsed": 597,
     "status": "ok",
     "timestamp": 1721160915910,
     "user": {
      "displayName": "AWS EDENX",
      "userId": "16422240437080948949"
     },
     "user_tz": -330
    },
    "id": "5Xsj1L_3hE4e"
   },
   "outputs": [],
   "source": [
    "def get_image_dimensions(image_path):\n",
    "    image = Image.open(image_path)\n",
    "    width, height = image.size\n",
    "    image.close()\n",
    "    return width, height"
   ]
  },
  {
   "cell_type": "code",
   "execution_count": null,
   "metadata": {
    "executionInfo": {
     "elapsed": 1,
     "status": "ok",
     "timestamp": 1721160918262,
     "user": {
      "displayName": "AWS EDENX",
      "userId": "16422240437080948949"
     },
     "user_tz": -330
    },
    "id": "WV0QjpHQhGiv"
   },
   "outputs": [],
   "source": [
    "def resize_image(input_path, output_path, new_size):\n",
    "    original_image = Image.open(input_path)\n",
    "    resized_image = original_image.resize(new_size, Image.LANCZOS)\n",
    "    resized_image.save(output_path)"
   ]
  },
  {
   "cell_type": "code",
   "execution_count": null,
   "metadata": {
    "executionInfo": {
     "elapsed": 2,
     "status": "ok",
     "timestamp": 1721160920792,
     "user": {
      "displayName": "AWS EDENX",
      "userId": "16422240437080948949"
     },
     "user_tz": -330
    },
    "id": "RX1LMFMChJm2"
   },
   "outputs": [],
   "source": [
    "plt.imsave('/content/drive/MyDrive/nst4image/final_images/ar1.png', np.squeeze(best)) # type: ignore"
   ]
  },
  {
   "cell_type": "code",
   "execution_count": null,
   "metadata": {
    "executionInfo": {
     "elapsed": 2058,
     "status": "ok",
     "timestamp": 1721160926124,
     "user": {
      "displayName": "AWS EDENX",
      "userId": "16422240437080948949"
     },
     "user_tz": -330
    },
    "id": "YaYWUL6ChOK_"
   },
   "outputs": [],
   "source": [
    "image_width, image_height = get_image_dimensions(content_path)\n",
    "\n",
    "stylized_image_path = \"/content/drive/MyDrive/nst4image/final_images/ar1.png\"\n",
    "output_image_path = \"/content/drive/MyDrive/nst4image/final_images/ar1.png\"\n",
    "new_dimensions = (image_width, image_height)\n",
    "resize_image(stylized_image_path, output_image_path, new_dimensions)"
   ]
  },
  {
   "cell_type": "code",
   "execution_count": null,
   "metadata": {
    "colab": {
     "base_uri": "https://localhost:8080/",
     "height": 535
    },
    "collapsed": true,
    "executionInfo": {
     "elapsed": 5175,
     "status": "ok",
     "timestamp": 1721160931923,
     "user": {
      "displayName": "AWS EDENX",
      "userId": "16422240437080948949"
     },
     "user_tz": -330
    },
    "id": "RddEHAQChQZ_",
    "outputId": "5d6b7e75-fb8c-4354-8eab-efc13158fcfe"
   },
   "outputs": [],
   "source": [
    "def show_results(best_img,show_large_final=True):\n",
    "  plt.figure(figsize=(10, 5))\n",
    "  if show_large_final:\n",
    "    plt.figure(figsize=(10, 10))\n",
    "    plt.imshow(best_img)\n",
    "    plt.title('Output Image')\n",
    "    plt.show()\n",
    "show_results(best)"
   ]
  }
 ],
 "metadata": {
  "accelerator": "GPU",
  "colab": {
   "authorship_tag": "ABX9TyO7V2I1zBmCJt1TMq7bJNCD",
   "gpuType": "T4",
   "machine_shape": "hm",
   "mount_file_id": "1pmqz6Zy4vRWUXk6Cc4XytVV15aTrcBt1",
   "provenance": []
  },
  "kernelspec": {
   "display_name": "Python 3",
   "name": "python3"
  },
  "language_info": {
   "name": "python"
  }
 },
 "nbformat": 4,
 "nbformat_minor": 0
}
